{
 "cells": [
  {
   "cell_type": "code",
   "execution_count": null,
   "metadata": {},
   "outputs": [],
   "source": [
    "import numpy as np\n",
    "import matplotlib.pyplot as plt\n",
    "x=np.array([1,2,3,4,5,6,7,8,9,10])\n",
    "y=np.array([63,68,76,83,89,94,97,99,100,100])\n",
    "\n",
    "m=0.0\n",
    "c=0.0\n",
    "alpha=0.01\n",
    "epochs=1000\n",
    "\n",
    "n=len(x)\n",
    "loss_history=[]\n",
    "\n",
    "for i in range(epochs):\n",
    "    y_pred=m*x+c\n",
    "    error=y-y_pred\n",
    "\n",
    "    loss=np.mean(error**2)\n",
    "    loss_history.append(loss)\n",
    "\n",
    "    dm=-2*np.mean(x*error)\n",
    "    dc=-2*np.mean(error)\n",
    "\n",
    "    m-=alpha*dm"
   ]
  },
  {
   "cell_type": "code",
   "execution_count": null,
   "metadata": {},
   "outputs": [],
   "source": []
  }
 ],
 "metadata": {
  "kernelspec": {
   "display_name": "myenv",
   "language": "python",
   "name": "python3"
  },
  "language_info": {
   "name": "python",
   "version": "undefined.undefined.undefined"
  }
 },
 "nbformat": 4,
 "nbformat_minor": 2
}
